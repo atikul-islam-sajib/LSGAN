{
 "cells": [
  {
   "cell_type": "code",
   "execution_count": 7,
   "metadata": {},
   "outputs": [],
   "source": [
    "import os\n",
    "import zipfile\n",
    "import joblib as pickle\n",
    "from torchvision import datasets, transforms\n",
    "from torchvision.datasets import ImageFolder\n",
    "from torch.utils.data import DataLoader"
   ]
  },
  {
   "cell_type": "code",
   "execution_count": 8,
   "metadata": {},
   "outputs": [],
   "source": [
    "# In utils.py\n",
    "def create_pickle(data = None, filename = None):\n",
    "    if data is not None and filename is not None:\n",
    "        pickle.dump(value=data, filename=filename)\n",
    "    else:\n",
    "        raise ValueError(\"No data provided\".capitalize())"
   ]
  },
  {
   "cell_type": "code",
   "execution_count": 13,
   "metadata": {},
   "outputs": [],
   "source": [
    "class Loader:\n",
    "    def __init__(self, image_path = None, batch_size = 64, image_size = 64):\n",
    "        self.image_path = image_path\n",
    "        self.batch_size = batch_size\n",
    "        self.image_size = image_size\n",
    "        self.to_extract = \"../data/raw/\"\n",
    "        self.to_processed = \"../data/processed/\"\n",
    "\n",
    "    def unzip_folder(self):\n",
    "        with zipfile.ZipFile(self.image_path, 'r') as zip_ref:\n",
    "            if os.path.exists(self.to_extract):\n",
    "                zip_ref.extractall(path=self.to_extract)\n",
    "            else:\n",
    "                print(\"There is no path to extract the dataset\".capitalize())\n",
    "                os.makedirs(self.to_extract)\n",
    "                zip_ref.extractall(path=self.to_extract)\n",
    "\n",
    "    def _do_normalization(self, transform = False):\n",
    "        if transform:\n",
    "            return transforms.Compose(\n",
    "                [\n",
    "                    transforms.Resize((self.image_size)),\n",
    "                    transforms.CenterCrop(self.image_size),\n",
    "                    transforms.ToTensor(),\n",
    "                    transforms.Normalize((0.5, 0.5, 0.5), (0.5, 0.5, 0.5)),\n",
    "                ]\n",
    "            )\n",
    "        else:\n",
    "            raise Exception(\"Error while doing the normalization\".capitalize())\n",
    "\n",
    "    def create_dataloader(self):\n",
    "        if os.path.exists(self.to_extract):\n",
    "            dataset = ImageFolder(root = self.to_extract, transform=self._do_normalization(transform=True))\n",
    "            dataloader = DataLoader(dataset, batch_size=self.batch_size, shuffle=True)\n",
    "\n",
    "            try:\n",
    "                if os.path.exists(self.to_processed):\n",
    "                    create_pickle(data=dataset, filename=os.path.join(self.to_processed, \"dataloader.pkl\"))\n",
    "                else:\n",
    "                    print(\"There is no data path named processed & creating the data path...\".capitalize())\n",
    "                    os.makedirs(self.to_processed)\n",
    "                    create_pickle(\n",
    "                        data=dataloader,\n",
    "                        filename=os.path.join(self.to_processed, \"dataloader.pkl\"),\n",
    "                    )\n",
    "\n",
    "            except Exception as e:\n",
    "                print(\"Error caught in the section # {}\".format(e))\n",
    "        else:\n",
    "            raise Exception(\"There is no path to create the dataloader\".capitalize())    \n",
    "\n",
    "\n",
    "if __name__ == \"__main__\":\n",
    "    loader = Loader(\n",
    "        image_path=\"/Users/shahmuhammadraditrahman/Desktop/alzheimer_dataset.zip\",\n",
    "        batch_size=64,\n",
    "        image_size=64\n",
    "    )\n",
    "    loader.unzip_folder()\n",
    "    loader.create_dataloader()"
   ]
  },
  {
   "cell_type": "code",
   "execution_count": 20,
   "metadata": {},
   "outputs": [
    {
     "name": "stdout",
     "output_type": "stream",
     "text": [
      "Quantity of the dataset # 34557 \n"
     ]
    }
   ],
   "source": [
    "# unittest\n",
    "data = pickle.load(\"../data/processed/dataloader.pkl\")\n",
    "\n",
    "def total_data(data = None):\n",
    "    return sum(image.shape[0] for image, _ in data) if data is not None else \"Data is empty\".capitalize()\n",
    "\n",
    "if __name__ == \"__main__\":\n",
    "    print(\"Quantity of the dataset # {} \".format(total_data(data = data)))"
   ]
  },
  {
   "cell_type": "code",
   "execution_count": null,
   "metadata": {},
   "outputs": [],
   "source": []
  }
 ],
 "metadata": {
  "kernelspec": {
   "display_name": "GPSG",
   "language": "python",
   "name": "python3"
  },
  "language_info": {
   "codemirror_mode": {
    "name": "ipython",
    "version": 3
   },
   "file_extension": ".py",
   "mimetype": "text/x-python",
   "name": "python",
   "nbconvert_exporter": "python",
   "pygments_lexer": "ipython3",
   "version": "3.9.18"
  }
 },
 "nbformat": 4,
 "nbformat_minor": 2
}
